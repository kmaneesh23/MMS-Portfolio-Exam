{
 "cells": [
  {
   "cell_type": "markdown",
   "metadata": {},
   "source": [
    "---\n",
    "---\n",
    "\n",
    "# \\<HEADLINE\\>\n",
    "---\n",
    "---"
   ]
  },
  {
   "cell_type": "markdown",
   "metadata": {},
   "source": [
    "# Preliminaries\n",
    "---\n",
    "\n",
    "## Pitch Summary\n",
    "<div class=\"alert alert-block alert-warning\">\n",
    "Present a short summary of the pitch!\n",
    "\n",
    "(Up to 5 bullet points, this cell)\n",
    "</div>\n",
    "\n",
    "* \\<...\\>\n",
    "*\n",
    "\n",
    "## Dataset Reference\n",
    "\n",
    "<div class=\"alert alert-block alert-warning\">\n",
    "Present the origin of the dataset, including e.g.\n",
    "    \n",
    "* the source where you got it from (link to the repository),\n",
    "* the author(s),\n",
    "* the license,\n",
    "* the purpose for which it was collected!\n",
    "\n",
    "(Text/bullet points, this cell)\n",
    "</div>\n",
    "\n",
    "* \\<...\\>\n",
    "*\n",
    "\n",
    "## Dataset Suitability\n",
    "\n",
    "<div class=\"alert alert-block alert-warning\">\n",
    "Explain why the dataset is suitable for the pitched task!\n",
    "    \n",
    "(Up to 3 bullet points, this cell)\n",
    "</div>\n",
    "\n",
    "* \\<...\\>\n",
    "*\n",
    "\n"
   ]
  },
  {
   "cell_type": "markdown",
   "metadata": {},
   "source": [
    "# Imports and Settings\n",
    "---\n",
    "<div class=\"alert alert-block alert-warning\">\n",
    "Use the following code cell to organize all imports and global settings.\n",
    "Do not remove the pandas option.\n",
    "    \n",
    "(Commented code, in the next cell)\n",
    "</div>"
   ]
  },
  {
   "cell_type": "code",
   "execution_count": 1,
   "metadata": {},
   "outputs": [],
   "source": [
    "import pandas as pd\n",
    "# make pandas display ALL columns of a dataframe\n",
    "pd.options.display.max_columns = None"
   ]
  },
  {
   "cell_type": "markdown",
   "metadata": {},
   "source": [
    "# The Data\n",
    "---"
   ]
  },
  {
   "cell_type": "markdown",
   "metadata": {},
   "source": [
    "## The Raw Data\n",
    "<div class=\"alert alert-block alert-warning\"> \n",
    "Load the data and present a couple of samples. Call the dataset variable \"raw\".\n",
    "\n",
    "(Commented code, add cells)\n",
    "</div>\n"
   ]
  },
  {
   "cell_type": "markdown",
   "metadata": {},
   "source": [
    "<div class=\"alert alert-block alert-warning\"> \n",
    "Explain the dataset with all its features.\n",
    "    \n",
    "* The features should be described in the following table. The range is the set of possible values that a feature can take, e.g. \"red, green, blue\", \"$\\mathbb{R}$\", \"$1,2,...,12$\".\n",
    "* You may describe each feature individually or groups of features, if many features are similar (whatever is easier to explain.)\n",
    "\n",
    "(Text/bullet points + table, this cell)\n",
    "</div>\n",
    "\n",
    "\n",
    "\\<Explanation\\>\n",
    "\n",
    "\n",
    "| Feature | Range  | Explanation |\n",
    "|---------|--------|-------------|\n",
    "|\\<...\\>  |\\<...\\> | \\<...\\>     |"
   ]
  },
  {
   "cell_type": "markdown",
   "metadata": {},
   "source": [
    "<div class=\"alert alert-block alert-warning\"> \n",
    "<b>Initial Data Analysis (IDA)</b>: Present relevant quantities about the data.\n",
    "    \n",
    "(Commented Code + text/bullet points, add cells)\n",
    "</div>"
   ]
  },
  {
   "cell_type": "markdown",
   "metadata": {},
   "source": [
    "## Preprocessing\n",
    "\n",
    "<div class=\"alert alert-block alert-warning\"> \n",
    "<b>Initial Data Analysis (IDA)</b>: \n",
    "Conduct necessary analyses of the data quality and transform the data as needed.\n",
    "Explain the necessity for transformations!\n",
    "    \n",
    "(Commented code + text/bullet points, add cells)\n",
    "</div>"
   ]
  },
  {
   "cell_type": "markdown",
   "metadata": {},
   "source": [
    "<div class=\"alert alert-block alert-warning\"> \n",
    "Call the final dataset \"data\" and present a couple of samples.\n",
    "\n",
    "(Commented code, add a cell)\n",
    "</div>"
   ]
  },
  {
   "cell_type": "markdown",
   "metadata": {},
   "source": [
    "<div class=\"alert alert-block alert-warning\"> \n",
    "<b>Initial Data Analysis (IDA)</b>: Present relevant quantities about the transformed data.\n",
    "    \n",
    "(Commented Code + text/bullet points, add cells)\n",
    "</div>"
   ]
  },
  {
   "cell_type": "markdown",
   "metadata": {},
   "source": [
    "# Exploratory Data Analysis (EDA) \n",
    "---"
   ]
  },
  {
   "cell_type": "markdown",
   "metadata": {},
   "source": [
    "<div class=\"alert alert-block alert-warning\"> \n",
    "Present 3 highlights from the exploratory data analysis (Task 4).\n",
    "\n",
    "(Commented code + text/bullet points, add cells)"
   ]
  },
  {
   "cell_type": "markdown",
   "metadata": {},
   "source": [
    "# Clustering 1 -- Plain Data\n",
    "---\n"
   ]
  },
  {
   "cell_type": "markdown",
   "metadata": {},
   "source": [
    "<div class=\"alert alert-block alert-warning\"> \n",
    "<b>Choice of Algorithm</b>: \n",
    "Given the situation in the pitch and the results from the above analyses. Which algorithm (chosen from those discussed in the lectures) would YOU choose for the clustering? Explain!\n",
    "    \n",
    "(Choice + 1-3 bullet points)\n",
    "</div>\n",
    "\n",
    "\\<CHOICE\\>\n",
    "\n",
    "*\n",
    "*\n",
    "*\n",
    "\n",
    "\n",
    "\n",
    "<div class=\"alert alert-block alert-warning\"> \n",
    "<b>Clustering with k-Means</b>: \n",
    "For the sake of the exam, use k-Means for the clustering (even if above you argumented for a different algorithm). Conduct ALL necessary steps to create a most helpful and meaningful clustering and discuss its quality. Use appropriate diagrams to demonstrate the results. \n",
    "    \n",
    "(Commented code + text/bullet points, add cells)\n",
    "</div>"
   ]
  },
  {
   "cell_type": "markdown",
   "metadata": {},
   "source": [
    "# Dimensionality Reduction\n",
    "---\n",
    "<div class=\"alert alert-block alert-warning\"> \n",
    "<b>PCA</b>: \n",
    "Use PCA to transform the dataset. Analytically choose a reasonable number of components. Report the preserved variance.\n",
    "\n",
    "(Commented code + text/bullet points, add cells)\n",
    "</div>"
   ]
  },
  {
   "cell_type": "markdown",
   "metadata": {},
   "source": [
    "# Clustering 2 -- PCA-transformed Data\n",
    "---\n",
    "<div class=\"alert alert-block alert-warning\"> \n",
    "<b>Clustering with k-Means</b>: \n",
    "On the PCA-transformed data, conduct ALL necessary steps to create a most helpful and meaningful clustering and discuss its quality. Use appropriate diagrams to demonstrate the results. \n",
    "\n",
    "(Commented code + text/bullet points, add cells)\n",
    "</div>"
   ]
  },
  {
   "cell_type": "markdown",
   "metadata": {},
   "source": [
    "<div class=\"alert alert-block alert-warning\"> \n",
    "<b>Clustering Comparison</b>: \n",
    "Compare the two clusterings (on the plain data and on the PCA-transformed data) with respect to cluster memberships.\n",
    "    \n",
    "(Commented code + text/bullet points, add cells)\n",
    "</div>"
   ]
  },
  {
   "cell_type": "markdown",
   "metadata": {},
   "source": [
    "# Interpretation\n",
    "---\n",
    "<div class=\"alert alert-block alert-warning\"> \n",
    "<b>Cluster Descriptions</b>: \n",
    "Create tables and visuals for the description of clusters through feature. Interpret the results for the usecase.\n",
    "    \n",
    "(Commented code + text/bullet points, add cells)\n",
    "</div>\n"
   ]
  },
  {
   "cell_type": "markdown",
   "metadata": {},
   "source": [
    "# CONCLUSIONS\n",
    "---\n",
    "\n",
    "<div class=\"alert alert-block alert-warning\"> \n",
    "<b>Conclusions</b>: \n",
    "Present conclusions etc. (See Task 7). Group your bulletpoints to respective headlines.\n",
    "    \n",
    "(Text/bullet points, this cell)\n",
    "</div>\n"
   ]
  },
  {
   "cell_type": "markdown",
   "metadata": {},
   "source": [
    "# Future Work\n",
    "---\n",
    "\n",
    "<div class=\"alert alert-block alert-warning\"> \n",
    "<b>Future Work</b>: \n",
    "Present three ideas for future work!\n",
    "    \n",
    "(3 bullet points, this cell)\n",
    "</div>\n"
   ]
  }
 ],
 "metadata": {
  "kernelspec": {
   "display_name": "envMMS24sose",
   "language": "python",
   "name": "envmms24sose"
  },
  "language_info": {
   "codemirror_mode": {
    "name": "ipython",
    "version": 3
   },
   "file_extension": ".py",
   "mimetype": "text/x-python",
   "name": "python",
   "nbconvert_exporter": "python",
   "pygments_lexer": "ipython3",
   "version": "3.12.2"
  }
 },
 "nbformat": 4,
 "nbformat_minor": 4
}
